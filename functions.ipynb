{
 "cells": [
  {
   "cell_type": "code",
   "execution_count": null,
   "metadata": {},
   "outputs": [],
   "source": [
    "def callAllen():\n",
    "    \"\"\"\n",
    "    test function to call my name \n",
    "    to make me feel awsome\n",
    "    \"\"\"\n",
    "    for i in range(0,4):\n",
    "        print(\"Say my name!!!\")\n",
    "        input(\"?\")\n",
    "        \n",
    "    print(\"That`s right.\")    "
   ]
  },
  {
   "cell_type": "code",
   "execution_count": 15,
   "metadata": {},
   "outputs": [
    {
     "name": "stdout",
     "output_type": "stream",
     "text": [
      "Say my name!!!\n",
      "?Allen\n",
      "Say my name!!!\n",
      "?Allen\n",
      "Say my name!!!\n",
      "?Allen\n",
      "Say my name!!!\n",
      "?Allen\n",
      "That`s right.\n"
     ]
    }
   ],
   "source": [
    "callAllen()"
   ]
  },
  {
   "cell_type": "code",
   "execution_count": null,
   "metadata": {},
   "outputs": [],
   "source": [
    "help(callAllen)"
   ]
  },
  {
   "cell_type": "code",
   "execution_count": null,
   "metadata": {},
   "outputs": [],
   "source": []
  }
 ],
 "metadata": {
  "kernelspec": {
   "display_name": "Python 3",
   "language": "python",
   "name": "python3"
  },
  "language_info": {
   "codemirror_mode": {
    "name": "ipython",
    "version": 3
   },
   "file_extension": ".py",
   "mimetype": "text/x-python",
   "name": "python",
   "nbconvert_exporter": "python",
   "pygments_lexer": "ipython3",
   "version": "3.7.1"
  }
 },
 "nbformat": 4,
 "nbformat_minor": 2
}
